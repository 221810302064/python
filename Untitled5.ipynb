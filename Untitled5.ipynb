{
 "cells": [
  {
   "cell_type": "code",
   "execution_count": 18,
   "metadata": {},
   "outputs": [
    {
     "name": "stdout",
     "output_type": "stream",
     "text": [
      "1\n"
     ]
    }
   ],
   "source": [
    "def linearsearch(a,n):\n",
    "    flag=0;\n",
    "    for i in range(len(a)):\n",
    "         if(a[i]==n):\n",
    "            \n",
    "            flag=flag+1;\n",
    "    \n",
    "    print(flag)\n",
    "a=[1,2,12,24,5]\n",
    "linearsearch(a,2)"
   ]
  },
  {
   "cell_type": "code",
   "execution_count": 21,
   "metadata": {},
   "outputs": [
    {
     "name": "stdout",
     "output_type": "stream",
     "text": [
      "1 4 7 0\n"
     ]
    }
   ],
   "source": [
    "def linearexample(a,taritem):\n",
    "    flag=0;\n",
    "    for i in range(len(a)):\n",
    "        if a[i]==taritem:\n",
    "            print(i,end=\" \");\n",
    "            \n",
    "    print(flag)\n",
    "a=[1,5,9,6,5,15,12,5]\n",
    "linearexample(a,5)    "
   ]
  },
  {
   "cell_type": "code",
   "execution_count": 25,
   "metadata": {},
   "outputs": [
    {
     "name": "stdout",
     "output_type": "stream",
     "text": [
      "! !  ! ! ! ! !  ! ! ! ! ! ! ! !  "
     ]
    }
   ],
   "source": [
    "def linearexample2(a,taritem):\n",
    "     for i in range(len(a)):\n",
    "             if a[i]==taritem:\n",
    "                    j=0\n",
    "                    while j!=i+1:\n",
    "                        print(\"!\",end=\" \")\n",
    "                        j=j+1\n",
    "                    print(end=\" \")\n",
    "                        \n",
    "a=[1,5,9,6,5,15,12,5]\n",
    "linearexample2(a,5)\n",
    "                    "
   ]
  },
  {
   "cell_type": "code",
   "execution_count": 67,
   "metadata": {},
   "outputs": [
    {
     "name": "stdout",
     "output_type": "stream",
     "text": [
      "60\n"
     ]
    }
   ],
   "source": [
    "def linearexample3(a):\n",
    "    sum=0;\n",
    "    for i in range(len(a)):\n",
    "            \n",
    "        if a[i]%3==0 and a[i]%5==0:\n",
    "            sum=sum+a[i]\n",
    "    return sum\n",
    "a=[15,12,2,9,18,36,45]\n",
    "print(linearexample3(a))"
   ]
  },
  {
   "cell_type": "code",
   "execution_count": 70,
   "metadata": {},
   "outputs": [
    {
     "name": "stdout",
     "output_type": "stream",
     "text": [
      "1\n",
      "3\n",
      "8\n",
      "15\n",
      "5\n"
     ]
    }
   ],
   "source": [
    "def linearformattedoutput(a):\n",
    "    for i in range(len(a)):\n",
    "        if i==0 or i==(len(a)-1):\n",
    "            print(a[i])\n",
    "        else:\n",
    "            print(a[i-1]*a[i+1])\n",
    "      \n",
    "a=[1,2,3,4,5]\n",
    "linearformattedoutput(a)"
   ]
  },
  {
   "cell_type": "code",
   "execution_count": 77,
   "metadata": {},
   "outputs": [
    {
     "name": "stdout",
     "output_type": "stream",
     "text": [
      "1 9 19 22 "
     ]
    }
   ],
   "source": [
    "def linearformattedoutput(a):\n",
    "    for i in range(len(a)):\n",
    "        if i==0 or i==(len(a)-1):\n",
    "            print(a[i],end=\" \")\n",
    "            \n",
    "        elif a[i-1]%2==0 and a[i+1]%2==0:\n",
    "            print(a[i],end=\" \")\n",
    "            \n",
    "a=[1,6,9,4,19,22]\n",
    "linearformattedoutput(a)"
   ]
  },
  {
   "cell_type": "code",
   "execution_count": null,
   "metadata": {},
   "outputs": [],
   "source": []
  },
  {
   "cell_type": "code",
   "execution_count": null,
   "metadata": {},
   "outputs": [],
   "source": []
  }
 ],
 "metadata": {
  "kernelspec": {
   "display_name": "Python 3",
   "language": "python",
   "name": "python3"
  },
  "language_info": {
   "codemirror_mode": {
    "name": "ipython",
    "version": 3
   },
   "file_extension": ".py",
   "mimetype": "text/x-python",
   "name": "python",
   "nbconvert_exporter": "python",
   "pygments_lexer": "ipython3",
   "version": "3.7.3"
  }
 },
 "nbformat": 4,
 "nbformat_minor": 2
}
