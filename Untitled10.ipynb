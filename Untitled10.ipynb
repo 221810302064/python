{
 "cells": [
  {
   "cell_type": "markdown",
   "metadata": {},
   "source": [
    "# string function-inbuilt function\n",
    "upper()-returns string which all the characters in upper case\n",
    "lower()-returns string which all the characters in lower case"
   ]
  },
  {
   "cell_type": "code",
   "execution_count": 3,
   "metadata": {},
   "outputs": [
    {
     "name": "stdout",
     "output_type": "stream",
     "text": [
      "ANIL\n",
      "anil\n"
     ]
    }
   ],
   "source": [
    "str=\"Anil\"\n",
    "print(str.upper())\n",
    "print(str.lower())"
   ]
  },
  {
   "cell_type": "markdown",
   "metadata": {},
   "source": [
    "# boolean function\n",
    "islower-method returns the output either true or false, if it is true the\n",
    "returns false\n",
    "isupper-method returns the output either true or false, if it is true the \n",
    "returns false "
   ]
  },
  {
   "cell_type": "code",
   "execution_count": 4,
   "metadata": {},
   "outputs": [
    {
     "name": "stdout",
     "output_type": "stream",
     "text": [
      "True\n",
      "True\n"
     ]
    }
   ],
   "source": [
    "s='python is easy programming language to  learn and interesting'\n",
    "s1=\"python\"\n",
    "print(s.islower())\n",
    "print(s1.islower())"
   ]
  },
  {
   "cell_type": "code",
   "execution_count": 11,
   "metadata": {},
   "outputs": [
    {
     "name": "stdout",
     "output_type": "stream",
     "text": [
      "False\n",
      "True\n"
     ]
    }
   ],
   "source": [
    "s=\"Application\"\n",
    "s1=\"ANIL\"\n",
    "print(s.isupper())\n",
    "print(s1.isupper())"
   ]
  },
  {
   "cell_type": "code",
   "execution_count": 12,
   "metadata": {},
   "outputs": [
    {
     "name": "stdout",
     "output_type": "stream",
     "text": [
      "True\n",
      "False\n"
     ]
    }
   ],
   "source": [
    "s=\"5678\"\n",
    "s1=\"app1889\"\n",
    "print(s.isnumeric())\n",
    "print(s1.isnumeric())"
   ]
  },
  {
   "cell_type": "code",
   "execution_count": 13,
   "metadata": {},
   "outputs": [
    {
     "name": "stdout",
     "output_type": "stream",
     "text": [
      "True\n",
      "False\n"
     ]
    }
   ],
   "source": [
    "s=\"application\"\n",
    "s1=\"app1889\"\n",
    "print(s.isalpha())\n",
    "print(s1.isalpha())"
   ]
  },
  {
   "cell_type": "code",
   "execution_count": 14,
   "metadata": {},
   "outputs": [
    {
     "name": "stdout",
     "output_type": "stream",
     "text": [
      "False\n",
      "False\n"
     ]
    }
   ],
   "source": [
    "s=\"python programming\"\n",
    "s1=\"python programming\"\n",
    "print(s.istitle())\n",
    "print(s1.istitle())"
   ]
  },
  {
   "cell_type": "markdown",
   "metadata": {},
   "source": [
    "# string method\n",
    "1.join()--concatenates two strings\n",
    "2.split()--\n",
    "3.replace()--"
   ]
  },
  {
   "cell_type": "code",
   "execution_count": 22,
   "metadata": {},
   "outputs": [
    {
     "name": "stdout",
     "output_type": "stream",
     "text": [
      "p y t h o n\n"
     ]
    }
   ],
   "source": [
    "str1=\"python\"\n",
    "print(\" \".join(str))"
   ]
  },
  {
   "cell_type": "code",
   "execution_count": 30,
   "metadata": {},
   "outputs": [
    {
     "name": "stdout",
     "output_type": "stream",
     "text": [
      "python,programming,easy\n"
     ]
    }
   ],
   "source": [
    "str2\n",
    "print(\",\".join([\"python\",\"programming\",\"easy\"]))"
   ]
  },
  {
   "cell_type": "code",
   "execution_count": 31,
   "metadata": {},
   "outputs": [
    {
     "name": "stdout",
     "output_type": "stream",
     "text": [
      ",\n"
     ]
    }
   ],
   "source": [
    "lst=[\"\"\",\"\"\"]\n",
    "print(\",\".join(lst))"
   ]
  },
  {
   "cell_type": "code",
   "execution_count": 34,
   "metadata": {},
   "outputs": [
    {
     "name": "stdout",
     "output_type": "stream",
     "text": [
      "['python', 'programming', 'is', 'easy', 'to', 'learn']\n",
      "['python progr', 'mming is e', 'sy to le', 'rn']\n",
      "['python programming is easy to learn']\n"
     ]
    }
   ],
   "source": [
    "s=\"python programming is easy to learn\"\n",
    "print(s.split())\n",
    "print(s.split(\"a\"))\n",
    "print(s.split(\",\"))"
   ]
  },
  {
   "cell_type": "code",
   "execution_count": 35,
   "metadata": {},
   "outputs": [
    {
     "name": "stdout",
     "output_type": "stream",
     "text": [
      "['python', 'programming', 'is', 'easy', 'to', 'learn']\n",
      "2\n"
     ]
    }
   ],
   "source": [
    "s=\"python programming is easy to learn\"\n",
    "lst=(s.split())\n",
    "print(lst)\n",
    "print(lst.index(\"is\"))"
   ]
  },
  {
   "cell_type": "code",
   "execution_count": 36,
   "metadata": {},
   "outputs": [
    {
     "name": "stdout",
     "output_type": "stream",
     "text": [
      "['p', 'y', 't', 'h', 'o', 'n', ' ', 'p', 'r', 'o', 'g', 'r', 'a', 'm', 'm', 'i', 'n', 'g', ' ', 'i', 's', ' ', 'e', 'a', 's', 'y', ' ', 't', 'o', ' ', 'l', 'e', 'a', 'r', 'n']\n"
     ]
    }
   ],
   "source": [
    "s=\"python programming is easy to learn\"\n",
    "lst=list(s)\n",
    "print(lst)"
   ]
  },
  {
   "cell_type": "code",
   "execution_count": 37,
   "metadata": {},
   "outputs": [
    {
     "name": "stdout",
     "output_type": "stream",
     "text": [
      "python proapplicationmming\n"
     ]
    }
   ],
   "source": [
    "s=\"python programming\";\n",
    "print(s.replace(\"gra\",\"application\"))"
   ]
  },
  {
   "cell_type": "code",
   "execution_count": null,
   "metadata": {},
   "outputs": [],
   "source": []
  }
 ],
 "metadata": {
  "kernelspec": {
   "display_name": "Python 3",
   "language": "python",
   "name": "python3"
  },
  "language_info": {
   "codemirror_mode": {
    "name": "ipython",
    "version": 3
   },
   "file_extension": ".py",
   "mimetype": "text/x-python",
   "name": "python",
   "nbconvert_exporter": "python",
   "pygments_lexer": "ipython3",
   "version": "3.7.3"
  }
 },
 "nbformat": 4,
 "nbformat_minor": 2
}
