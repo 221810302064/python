{
 "cells": [
  {
   "cell_type": "markdown",
   "metadata": {},
   "source": [
    "# control flow statements"
   ]
  },
  {
   "cell_type": "code",
   "execution_count": 1,
   "metadata": {},
   "outputs": [
    {
     "name": "stdout",
     "output_type": "stream",
     "text": [
      "the number is lessthan 15\n"
     ]
    }
   ],
   "source": [
    "x=10;\n",
    "if(x<15):\n",
    "    print(\"the number is lessthan 15\");"
   ]
  },
  {
   "cell_type": "code",
   "execution_count": 6,
   "metadata": {},
   "outputs": [
    {
     "name": "stdout",
     "output_type": "stream",
     "text": [
      "the number is greater than 15\n"
     ]
    }
   ],
   "source": [
    "x=10;\n",
    "if(x>15):\n",
    " print(\"the number is less than 15\");\n",
    "else:\n",
    " print(\"the number is greater than 15\");"
   ]
  },
  {
   "cell_type": "code",
   "execution_count": 9,
   "metadata": {},
   "outputs": [
    {
     "name": "stdout",
     "output_type": "stream",
     "text": [
      "hello good afternoon\n"
     ]
    }
   ],
   "source": [
    "x=10;\n",
    "if(x>15):\n",
    "    print(\"hello good morning\");\n",
    "else:\n",
    "    print(\"hello good afternoon\");"
   ]
  },
  {
   "cell_type": "code",
   "execution_count": 11,
   "metadata": {},
   "outputs": [
    {
     "name": "stdout",
     "output_type": "stream",
     "text": [
      "y is greater number\n"
     ]
    }
   ],
   "source": [
    "x=10;\n",
    "y=20;\n",
    "if(x>y):\n",
    "    print(\"x is greater number\");\n",
    "else:\n",
    "    print(\"y is greater number\");"
   ]
  },
  {
   "cell_type": "code",
   "execution_count": 12,
   "metadata": {},
   "outputs": [
    {
     "name": "stdout",
     "output_type": "stream",
     "text": [
      "prasad\n"
     ]
    }
   ],
   "source": [
    "x=10;\n",
    "if(x>y):\n",
    "    print(\"bindhu\");\n",
    "else:\n",
    "    print(\"prasad\");\n",
    "    "
   ]
  },
  {
   "cell_type": "code",
   "execution_count": 13,
   "metadata": {},
   "outputs": [
    {
     "name": "stdout",
     "output_type": "stream",
     "text": [
      "its negative number\n"
     ]
    }
   ],
   "source": [
    "x=-10;\n",
    "if(x<0):\n",
    "    print(\"its negative number\");\n",
    "elif(x>0):\n",
    "    print(\"its a positive number\");\n",
    "elif(x==0):\n",
    "    print(\"its zero\");"
   ]
  },
  {
   "cell_type": "code",
   "execution_count": 14,
   "metadata": {},
   "outputs": [
    {
     "name": "stdout",
     "output_type": "stream",
     "text": [
      "1\n",
      "2\n",
      "3\n",
      "4\n",
      "5\n",
      "6\n",
      "7\n",
      "8\n",
      "9\n"
     ]
    }
   ],
   "source": []
  },
  {
   "cell_type": "code",
   "execution_count": 16,
   "metadata": {},
   "outputs": [
    {
     "name": "stdout",
     "output_type": "stream",
     "text": [
      "10\n"
     ]
    }
   ],
   "source": [
    "n=10;\n",
    "while(n<=10):\n",
    "    print(n);\n",
    "    n=n+1;"
   ]
  },
  {
   "cell_type": "code",
   "execution_count": 24,
   "metadata": {},
   "outputs": [
    {
     "name": "stdout",
     "output_type": "stream",
     "text": [
      "-22\n",
      "-23\n",
      "-24\n",
      "-25\n",
      "-26\n",
      "-27\n",
      "-28\n",
      "-29\n",
      "-30\n",
      "-31\n",
      "-32\n",
      "-33\n",
      "-34\n",
      "-35\n",
      "-36\n",
      "-37\n",
      "-38\n",
      "-39\n",
      "-40\n",
      "-41\n",
      "-42\n",
      "-43\n",
      "-44\n",
      "-45\n"
     ]
    }
   ],
   "source": [
    "n=-22;\n",
    "while(n>=-45):\n",
    "    print(n);\n",
    "    n=n-1;\n",
    "    "
   ]
  },
  {
   "cell_type": "code",
   "execution_count": null,
   "metadata": {},
   "outputs": [],
   "source": [
    "x=int(input(\"enter lower limit\"));\n",
    "y=int(input(\"enter upper limit\"));\n",
    "sum=0;\n",
    "while(x!=y):\n",
    "    if(x%2==0):\n",
    "        sum=sum+x;\n",
    "        x=x+1\n",
    "        print(sum);"
   ]
  },
  {
   "cell_type": "code",
   "execution_count": null,
   "metadata": {},
   "outputs": [],
   "source": [
    "digit=int(input(\"enter a number\"));\n",
    "11=int(input(enter lower limit));\n",
    "\n",
    "\n",
    "cnt=0;\n",
    "\n",
    "while(11!=12):\n",
    "    buffer=11;\n",
    "    while(11!=0);\n",
    "    r=11%10"
   ]
  },
  {
   "cell_type": "code",
   "execution_count": 2,
   "metadata": {},
   "outputs": [
    {
     "name": "stdout",
     "output_type": "stream",
     "text": [
      "1 2 3 \n",
      "1 2 3 4 5 6 7 8 9 10 11 12 13 14 15 \n"
     ]
    }
   ],
   "source": [
    "def printnaturalnumbers(n):\n",
    "    cnt = 1;\n",
    "    while(cnt <= n):\n",
    "        print(cnt,end = \" \")\n",
    "        cnt = cnt + 1;\n",
    "    print()\n",
    "    return\n",
    "\n",
    "printnaturalnumbers(3)\n",
    "printnaturalnumbers(15)"
   ]
  },
  {
   "cell_type": "code",
   "execution_count": 5,
   "metadata": {},
   "outputs": [
    {
     "name": "stdout",
     "output_type": "stream",
     "text": [
      "120\n",
      "3628800\n",
      "2432902008176640000\n"
     ]
    }
   ],
   "source": [
    "def findfact(n):\n",
    "    fact = 1;\n",
    "    while(n!=0):\n",
    "        fact = fact * n;\n",
    "        n = n - 1;\n",
    "    return fact;\n",
    "    \n",
    "print(findfact(5));\n",
    "print(findfact(10));\n",
    "print(findfact(20));\n",
    "    \n",
    "    "
   ]
  },
  {
   "cell_type": "code",
   "execution_count": 13,
   "metadata": {},
   "outputs": [],
   "source": [
    "def countofpalindromes(n1,n2):\n",
    "    cnt=0;\n",
    "    \n",
    "    while(n1 != n2):\n",
    "        sum = 0\n",
    "        buffer=n1;\n",
    "        while n1 != 0:\n",
    "            r = n1 % 10;\n",
    "            sum=(sum * 10)+ r;\n",
    "            n1 =n1 // 10;\n",
    "        if buffer == sum:\n",
    "            cnt = cnt + 1;\n",
    "        n1 = buffer;\n",
    "        n1 = n1 + 1;\n",
    "    return cnt;\n",
    "                \n",
    "                \n",
    "                \n",
    "       \n",
    "    print(countofpalindromes(10)(30));\n",
    "    print(countofpalindromes(1,10000000))\n",
    "    "
   ]
  },
  {
   "cell_type": "code",
   "execution_count": null,
   "metadata": {},
   "outputs": [],
   "source": []
  },
  {
   "cell_type": "code",
   "execution_count": null,
   "metadata": {},
   "outputs": [],
   "source": []
  },
  {
   "cell_type": "code",
   "execution_count": null,
   "metadata": {},
   "outputs": [],
   "source": []
  },
  {
   "cell_type": "code",
   "execution_count": null,
   "metadata": {},
   "outputs": [],
   "source": []
  },
  {
   "cell_type": "code",
   "execution_count": null,
   "metadata": {},
   "outputs": [],
   "source": []
  }
 ],
 "metadata": {
  "kernelspec": {
   "display_name": "Python 3",
   "language": "python",
   "name": "python3"
  },
  "language_info": {
   "codemirror_mode": {
    "name": "ipython",
    "version": 3
   },
   "file_extension": ".py",
   "mimetype": "text/x-python",
   "name": "python",
   "nbconvert_exporter": "python",
   "pygments_lexer": "ipython3",
   "version": "3.7.3"
  }
 },
 "nbformat": 4,
 "nbformat_minor": 2
}
